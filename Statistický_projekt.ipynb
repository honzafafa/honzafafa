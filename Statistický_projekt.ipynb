{
 "cells": [
  {
   "cell_type": "markdown",
   "metadata": {},
   "source": [
    "# <center>Statistický projekt 4.A 2022</center>"
   ]
  },
  {
   "cell_type": "markdown",
   "metadata": {},
   "source": [
    "## Téma:"
   ]
  },
  {
   "cell_type": "markdown",
   "metadata": {},
   "source": [
    "# <center>Vyhodnocení korelace změny v ceně akcie Googlu na obchovaném objemu dané akcie</center>"
   ]
  },
  {
   "cell_type": "markdown",
   "metadata": {},
   "source": [
    "### <div align=\"right\">Vypracoval: Jan Faflík</div>"
   ]
  },
  {
   "cell_type": "markdown",
   "metadata": {},
   "source": [
    "Tento projekt byl vypracována pomocí programovacího jazyka Python 3.9.0, ve výpočetním prostředí prostředí Jupyter Notebook 6.1.5, za použití níže uvedených knihoven."
   ]
  },
  {
   "cell_type": "code",
   "execution_count": 2,
   "metadata": {},
   "outputs": [],
   "source": [
    "#stažení rozšiřujících knihoven\n",
    "import pandas as pd\n",
    "import math\n",
    "from scipy import stats\n",
    "import numpy as np\n",
    "import matplotlib.pyplot as plt\n",
    "from sklearn.metrics import r2_score\n",
    "from scipy.optimize import curve_fit"
   ]
  },
  {
   "cell_type": "code",
   "execution_count": 3,
   "metadata": {},
   "outputs": [],
   "source": [
    "file_path = \"/Users/faflik/Desktop/My_file/Other_stuff/code/datasets/quantumstock1.csv\""
   ]
  },
  {
   "cell_type": "code",
   "execution_count": 4,
   "metadata": {},
   "outputs": [],
   "source": [
    "data = pd.read_csv(file_path)"
   ]
  },
  {
   "cell_type": "markdown",
   "metadata": {},
   "source": [
    "# Počáteční analýza a úprava dat"
   ]
  },
  {
   "cell_type": "code",
   "execution_count": 5,
   "metadata": {},
   "outputs": [
    {
     "data": {
      "text/html": [
       "<div>\n",
       "<style scoped>\n",
       "    .dataframe tbody tr th:only-of-type {\n",
       "        vertical-align: middle;\n",
       "    }\n",
       "\n",
       "    .dataframe tbody tr th {\n",
       "        vertical-align: top;\n",
       "    }\n",
       "\n",
       "    .dataframe thead th {\n",
       "        text-align: right;\n",
       "    }\n",
       "</style>\n",
       "<table border=\"1\" class=\"dataframe\">\n",
       "  <thead>\n",
       "    <tr style=\"text-align: right;\">\n",
       "      <th></th>\n",
       "      <th>Date</th>\n",
       "      <th>open</th>\n",
       "      <th>high</th>\n",
       "      <th>low</th>\n",
       "      <th>close</th>\n",
       "      <th>adjclose</th>\n",
       "      <th>volume</th>\n",
       "      <th>ticker</th>\n",
       "    </tr>\n",
       "  </thead>\n",
       "  <tbody>\n",
       "    <tr>\n",
       "      <th>0</th>\n",
       "      <td>2021-01-04</td>\n",
       "      <td>11.125</td>\n",
       "      <td>11.25</td>\n",
       "      <td>10.50</td>\n",
       "      <td>10.80</td>\n",
       "      <td>10.80</td>\n",
       "      <td>150500.0</td>\n",
       "      <td>IONQ</td>\n",
       "    </tr>\n",
       "    <tr>\n",
       "      <th>1</th>\n",
       "      <td>2021-01-05</td>\n",
       "      <td>10.850</td>\n",
       "      <td>11.83</td>\n",
       "      <td>10.75</td>\n",
       "      <td>11.11</td>\n",
       "      <td>11.11</td>\n",
       "      <td>165300.0</td>\n",
       "      <td>IONQ</td>\n",
       "    </tr>\n",
       "    <tr>\n",
       "      <th>2</th>\n",
       "      <td>2021-01-06</td>\n",
       "      <td>11.500</td>\n",
       "      <td>11.50</td>\n",
       "      <td>11.00</td>\n",
       "      <td>11.05</td>\n",
       "      <td>11.05</td>\n",
       "      <td>175600.0</td>\n",
       "      <td>IONQ</td>\n",
       "    </tr>\n",
       "    <tr>\n",
       "      <th>3</th>\n",
       "      <td>2021-01-07</td>\n",
       "      <td>11.500</td>\n",
       "      <td>11.50</td>\n",
       "      <td>11.05</td>\n",
       "      <td>11.11</td>\n",
       "      <td>11.11</td>\n",
       "      <td>94200.0</td>\n",
       "      <td>IONQ</td>\n",
       "    </tr>\n",
       "    <tr>\n",
       "      <th>4</th>\n",
       "      <td>2021-01-08</td>\n",
       "      <td>11.650</td>\n",
       "      <td>12.35</td>\n",
       "      <td>11.00</td>\n",
       "      <td>11.01</td>\n",
       "      <td>11.01</td>\n",
       "      <td>137500.0</td>\n",
       "      <td>IONQ</td>\n",
       "    </tr>\n",
       "  </tbody>\n",
       "</table>\n",
       "</div>"
      ],
      "text/plain": [
       "         Date    open   high    low  close  adjclose    volume ticker\n",
       "0  2021-01-04  11.125  11.25  10.50  10.80     10.80  150500.0   IONQ\n",
       "1  2021-01-05  10.850  11.83  10.75  11.11     11.11  165300.0   IONQ\n",
       "2  2021-01-06  11.500  11.50  11.00  11.05     11.05  175600.0   IONQ\n",
       "3  2021-01-07  11.500  11.50  11.05  11.11     11.11   94200.0   IONQ\n",
       "4  2021-01-08  11.650  12.35  11.00  11.01     11.01  137500.0   IONQ"
      ]
     },
     "execution_count": 5,
     "metadata": {},
     "output_type": "execute_result"
    }
   ],
   "source": [
    "data.head()"
   ]
  },
  {
   "cell_type": "code",
   "execution_count": 6,
   "metadata": {},
   "outputs": [
    {
     "data": {
      "text/html": [
       "<div>\n",
       "<style scoped>\n",
       "    .dataframe tbody tr th:only-of-type {\n",
       "        vertical-align: middle;\n",
       "    }\n",
       "\n",
       "    .dataframe tbody tr th {\n",
       "        vertical-align: top;\n",
       "    }\n",
       "\n",
       "    .dataframe thead th {\n",
       "        text-align: right;\n",
       "    }\n",
       "</style>\n",
       "<table border=\"1\" class=\"dataframe\">\n",
       "  <thead>\n",
       "    <tr style=\"text-align: right;\">\n",
       "      <th></th>\n",
       "      <th>open</th>\n",
       "      <th>high</th>\n",
       "      <th>low</th>\n",
       "      <th>close</th>\n",
       "      <th>adjclose</th>\n",
       "      <th>volume</th>\n",
       "    </tr>\n",
       "  </thead>\n",
       "  <tbody>\n",
       "    <tr>\n",
       "      <th>count</th>\n",
       "      <td>136473.000000</td>\n",
       "      <td>136473.000000</td>\n",
       "      <td>136473.000000</td>\n",
       "      <td>136473.000000</td>\n",
       "      <td>136473.000000</td>\n",
       "      <td>1.364730e+05</td>\n",
       "    </tr>\n",
       "    <tr>\n",
       "      <th>mean</th>\n",
       "      <td>167.119533</td>\n",
       "      <td>168.892349</td>\n",
       "      <td>165.238686</td>\n",
       "      <td>167.098051</td>\n",
       "      <td>145.714925</td>\n",
       "      <td>1.256765e+07</td>\n",
       "    </tr>\n",
       "    <tr>\n",
       "      <th>std</th>\n",
       "      <td>499.878954</td>\n",
       "      <td>504.748352</td>\n",
       "      <td>494.531675</td>\n",
       "      <td>499.680962</td>\n",
       "      <td>451.972433</td>\n",
       "      <td>2.434017e+07</td>\n",
       "    </tr>\n",
       "    <tr>\n",
       "      <th>min</th>\n",
       "      <td>0.000000</td>\n",
       "      <td>0.015000</td>\n",
       "      <td>0.010000</td>\n",
       "      <td>0.015000</td>\n",
       "      <td>0.015000</td>\n",
       "      <td>0.000000e+00</td>\n",
       "    </tr>\n",
       "    <tr>\n",
       "      <th>25%</th>\n",
       "      <td>8.289412</td>\n",
       "      <td>8.390625</td>\n",
       "      <td>8.160000</td>\n",
       "      <td>8.282209</td>\n",
       "      <td>4.747473</td>\n",
       "      <td>8.074000e+05</td>\n",
       "    </tr>\n",
       "    <tr>\n",
       "      <th>50%</th>\n",
       "      <td>24.780001</td>\n",
       "      <td>25.059999</td>\n",
       "      <td>24.500000</td>\n",
       "      <td>24.796844</td>\n",
       "      <td>16.538219</td>\n",
       "      <td>3.271000e+06</td>\n",
       "    </tr>\n",
       "    <tr>\n",
       "      <th>75%</th>\n",
       "      <td>69.760002</td>\n",
       "      <td>70.559998</td>\n",
       "      <td>68.970001</td>\n",
       "      <td>69.773445</td>\n",
       "      <td>53.453701</td>\n",
       "      <td>1.122740e+07</td>\n",
       "    </tr>\n",
       "    <tr>\n",
       "      <th>max</th>\n",
       "      <td>5000.000000</td>\n",
       "      <td>5000.000000</td>\n",
       "      <td>5000.000000</td>\n",
       "      <td>5000.000000</td>\n",
       "      <td>5000.000000</td>\n",
       "      <td>1.123003e+09</td>\n",
       "    </tr>\n",
       "  </tbody>\n",
       "</table>\n",
       "</div>"
      ],
      "text/plain": [
       "                open           high            low          close  \\\n",
       "count  136473.000000  136473.000000  136473.000000  136473.000000   \n",
       "mean      167.119533     168.892349     165.238686     167.098051   \n",
       "std       499.878954     504.748352     494.531675     499.680962   \n",
       "min         0.000000       0.015000       0.010000       0.015000   \n",
       "25%         8.289412       8.390625       8.160000       8.282209   \n",
       "50%        24.780001      25.059999      24.500000      24.796844   \n",
       "75%        69.760002      70.559998      68.970001      69.773445   \n",
       "max      5000.000000    5000.000000    5000.000000    5000.000000   \n",
       "\n",
       "            adjclose        volume  \n",
       "count  136473.000000  1.364730e+05  \n",
       "mean      145.714925  1.256765e+07  \n",
       "std       451.972433  2.434017e+07  \n",
       "min         0.015000  0.000000e+00  \n",
       "25%         4.747473  8.074000e+05  \n",
       "50%        16.538219  3.271000e+06  \n",
       "75%        53.453701  1.122740e+07  \n",
       "max      5000.000000  1.123003e+09  "
      ]
     },
     "execution_count": 6,
     "metadata": {},
     "output_type": "execute_result"
    }
   ],
   "source": [
    "data.describe()"
   ]
  },
  {
   "cell_type": "code",
   "execution_count": 7,
   "metadata": {},
   "outputs": [
    {
     "data": {
      "text/plain": [
       "array(['IONQ', 'QUBT', 'ONE.V', 'ACN', 'T', 'BIDU', 'GOOG', 'IBM',\n",
       "       'IFX.DE', 'INTC', 'AMZN', '4185.T', 'LMT', 'MSFT', 'MIELY', 'NOK',\n",
       "       'NOC', 'QNC.V', 'RTX', 'RGTI', 'TOSYY'], dtype=object)"
      ]
     },
     "execution_count": 7,
     "metadata": {},
     "output_type": "execute_result"
    }
   ],
   "source": [
    "data.ticker.unique()"
   ]
  },
  {
   "cell_type": "code",
   "execution_count": 8,
   "metadata": {},
   "outputs": [],
   "source": [
    "data2 = data.dropna()"
   ]
  },
  {
   "cell_type": "code",
   "execution_count": 9,
   "metadata": {},
   "outputs": [
    {
     "name": "stdout",
     "output_type": "stream",
     "text": [
      "136518\n",
      "136473\n"
     ]
    }
   ],
   "source": [
    "print(len(data))\n",
    "print(len(data2))"
   ]
  },
  {
   "cell_type": "code",
   "execution_count": 10,
   "metadata": {},
   "outputs": [],
   "source": [
    "GOOG = pd.DataFrame(data[data[\"ticker\"] == \"GOOG\"])"
   ]
  },
  {
   "cell_type": "code",
   "execution_count": 11,
   "metadata": {},
   "outputs": [
    {
     "data": {
      "text/html": [
       "<div>\n",
       "<style scoped>\n",
       "    .dataframe tbody tr th:only-of-type {\n",
       "        vertical-align: middle;\n",
       "    }\n",
       "\n",
       "    .dataframe tbody tr th {\n",
       "        vertical-align: top;\n",
       "    }\n",
       "\n",
       "    .dataframe thead th {\n",
       "        text-align: right;\n",
       "    }\n",
       "</style>\n",
       "<table border=\"1\" class=\"dataframe\">\n",
       "  <thead>\n",
       "    <tr style=\"text-align: right;\">\n",
       "      <th></th>\n",
       "      <th>Date</th>\n",
       "      <th>open</th>\n",
       "      <th>high</th>\n",
       "      <th>low</th>\n",
       "      <th>close</th>\n",
       "      <th>adjclose</th>\n",
       "      <th>volume</th>\n",
       "      <th>ticker</th>\n",
       "    </tr>\n",
       "  </thead>\n",
       "  <tbody>\n",
       "    <tr>\n",
       "      <th>28607</th>\n",
       "      <td>2004-08-19</td>\n",
       "      <td>49.813290</td>\n",
       "      <td>51.835709</td>\n",
       "      <td>47.800831</td>\n",
       "      <td>49.982655</td>\n",
       "      <td>49.982655</td>\n",
       "      <td>44871361.0</td>\n",
       "      <td>GOOG</td>\n",
       "    </tr>\n",
       "    <tr>\n",
       "      <th>28608</th>\n",
       "      <td>2004-08-20</td>\n",
       "      <td>50.316402</td>\n",
       "      <td>54.336334</td>\n",
       "      <td>50.062355</td>\n",
       "      <td>53.952770</td>\n",
       "      <td>53.952770</td>\n",
       "      <td>22942874.0</td>\n",
       "      <td>GOOG</td>\n",
       "    </tr>\n",
       "    <tr>\n",
       "      <th>28609</th>\n",
       "      <td>2004-08-23</td>\n",
       "      <td>55.168217</td>\n",
       "      <td>56.528118</td>\n",
       "      <td>54.321388</td>\n",
       "      <td>54.495735</td>\n",
       "      <td>54.495735</td>\n",
       "      <td>18342897.0</td>\n",
       "      <td>GOOG</td>\n",
       "    </tr>\n",
       "    <tr>\n",
       "      <th>28610</th>\n",
       "      <td>2004-08-24</td>\n",
       "      <td>55.412300</td>\n",
       "      <td>55.591629</td>\n",
       "      <td>51.591621</td>\n",
       "      <td>52.239197</td>\n",
       "      <td>52.239197</td>\n",
       "      <td>15319808.0</td>\n",
       "      <td>GOOG</td>\n",
       "    </tr>\n",
       "    <tr>\n",
       "      <th>28611</th>\n",
       "      <td>2004-08-25</td>\n",
       "      <td>52.284027</td>\n",
       "      <td>53.798351</td>\n",
       "      <td>51.746044</td>\n",
       "      <td>52.802086</td>\n",
       "      <td>52.802086</td>\n",
       "      <td>9232276.0</td>\n",
       "      <td>GOOG</td>\n",
       "    </tr>\n",
       "  </tbody>\n",
       "</table>\n",
       "</div>"
      ],
      "text/plain": [
       "             Date       open       high        low      close   adjclose  \\\n",
       "28607  2004-08-19  49.813290  51.835709  47.800831  49.982655  49.982655   \n",
       "28608  2004-08-20  50.316402  54.336334  50.062355  53.952770  53.952770   \n",
       "28609  2004-08-23  55.168217  56.528118  54.321388  54.495735  54.495735   \n",
       "28610  2004-08-24  55.412300  55.591629  51.591621  52.239197  52.239197   \n",
       "28611  2004-08-25  52.284027  53.798351  51.746044  52.802086  52.802086   \n",
       "\n",
       "           volume ticker  \n",
       "28607  44871361.0   GOOG  \n",
       "28608  22942874.0   GOOG  \n",
       "28609  18342897.0   GOOG  \n",
       "28610  15319808.0   GOOG  \n",
       "28611   9232276.0   GOOG  "
      ]
     },
     "execution_count": 11,
     "metadata": {},
     "output_type": "execute_result"
    }
   ],
   "source": [
    "GOOG.head()"
   ]
  },
  {
   "cell_type": "code",
   "execution_count": 12,
   "metadata": {},
   "outputs": [
    {
     "data": {
      "text/plain": [
       "4417"
      ]
     },
     "execution_count": 12,
     "metadata": {},
     "output_type": "execute_result"
    }
   ],
   "source": [
    "len(GOOG)"
   ]
  },
  {
   "cell_type": "code",
   "execution_count": 13,
   "metadata": {},
   "outputs": [
    {
     "data": {
      "text/plain": [
       "array(['GOOG'], dtype=object)"
      ]
     },
     "execution_count": 13,
     "metadata": {},
     "output_type": "execute_result"
    }
   ],
   "source": [
    "GOOG.ticker.unique()"
   ]
  },
  {
   "cell_type": "code",
   "execution_count": 14,
   "metadata": {},
   "outputs": [
    {
     "data": {
      "text/html": [
       "<div>\n",
       "<style scoped>\n",
       "    .dataframe tbody tr th:only-of-type {\n",
       "        vertical-align: middle;\n",
       "    }\n",
       "\n",
       "    .dataframe tbody tr th {\n",
       "        vertical-align: top;\n",
       "    }\n",
       "\n",
       "    .dataframe thead th {\n",
       "        text-align: right;\n",
       "    }\n",
       "</style>\n",
       "<table border=\"1\" class=\"dataframe\">\n",
       "  <thead>\n",
       "    <tr style=\"text-align: right;\">\n",
       "      <th></th>\n",
       "      <th>open</th>\n",
       "      <th>high</th>\n",
       "      <th>low</th>\n",
       "      <th>close</th>\n",
       "      <th>adjclose</th>\n",
       "      <th>volume</th>\n",
       "    </tr>\n",
       "  </thead>\n",
       "  <tbody>\n",
       "    <tr>\n",
       "      <th>count</th>\n",
       "      <td>4417.000000</td>\n",
       "      <td>4417.000000</td>\n",
       "      <td>4417.000000</td>\n",
       "      <td>4417.000000</td>\n",
       "      <td>4417.000000</td>\n",
       "      <td>4.417000e+03</td>\n",
       "    </tr>\n",
       "    <tr>\n",
       "      <th>mean</th>\n",
       "      <td>683.417213</td>\n",
       "      <td>690.014240</td>\n",
       "      <td>676.755848</td>\n",
       "      <td>683.533639</td>\n",
       "      <td>683.533639</td>\n",
       "      <td>6.406665e+06</td>\n",
       "    </tr>\n",
       "    <tr>\n",
       "      <th>std</th>\n",
       "      <td>640.465753</td>\n",
       "      <td>646.638471</td>\n",
       "      <td>634.436488</td>\n",
       "      <td>640.636805</td>\n",
       "      <td>640.636805</td>\n",
       "      <td>7.780048e+06</td>\n",
       "    </tr>\n",
       "    <tr>\n",
       "      <th>min</th>\n",
       "      <td>49.409801</td>\n",
       "      <td>50.680038</td>\n",
       "      <td>47.800831</td>\n",
       "      <td>49.818268</td>\n",
       "      <td>49.818268</td>\n",
       "      <td>7.922000e+03</td>\n",
       "    </tr>\n",
       "    <tr>\n",
       "      <th>25%</th>\n",
       "      <td>247.248260</td>\n",
       "      <td>249.265686</td>\n",
       "      <td>244.169785</td>\n",
       "      <td>246.834808</td>\n",
       "      <td>246.834808</td>\n",
       "      <td>1.556300e+06</td>\n",
       "    </tr>\n",
       "    <tr>\n",
       "      <th>50%</th>\n",
       "      <td>431.044342</td>\n",
       "      <td>434.426666</td>\n",
       "      <td>427.124023</td>\n",
       "      <td>431.253571</td>\n",
       "      <td>431.253571</td>\n",
       "      <td>3.711660e+06</td>\n",
       "    </tr>\n",
       "    <tr>\n",
       "      <th>75%</th>\n",
       "      <td>982.349976</td>\n",
       "      <td>988.250000</td>\n",
       "      <td>975.099976</td>\n",
       "      <td>980.340027</td>\n",
       "      <td>980.340027</td>\n",
       "      <td>8.076761e+06</td>\n",
       "    </tr>\n",
       "    <tr>\n",
       "      <th>max</th>\n",
       "      <td>3037.270020</td>\n",
       "      <td>3042.000000</td>\n",
       "      <td>2997.750000</td>\n",
       "      <td>3014.179932</td>\n",
       "      <td>3014.179932</td>\n",
       "      <td>8.254163e+07</td>\n",
       "    </tr>\n",
       "  </tbody>\n",
       "</table>\n",
       "</div>"
      ],
      "text/plain": [
       "              open         high          low        close     adjclose  \\\n",
       "count  4417.000000  4417.000000  4417.000000  4417.000000  4417.000000   \n",
       "mean    683.417213   690.014240   676.755848   683.533639   683.533639   \n",
       "std     640.465753   646.638471   634.436488   640.636805   640.636805   \n",
       "min      49.409801    50.680038    47.800831    49.818268    49.818268   \n",
       "25%     247.248260   249.265686   244.169785   246.834808   246.834808   \n",
       "50%     431.044342   434.426666   427.124023   431.253571   431.253571   \n",
       "75%     982.349976   988.250000   975.099976   980.340027   980.340027   \n",
       "max    3037.270020  3042.000000  2997.750000  3014.179932  3014.179932   \n",
       "\n",
       "             volume  \n",
       "count  4.417000e+03  \n",
       "mean   6.406665e+06  \n",
       "std    7.780048e+06  \n",
       "min    7.922000e+03  \n",
       "25%    1.556300e+06  \n",
       "50%    3.711660e+06  \n",
       "75%    8.076761e+06  \n",
       "max    8.254163e+07  "
      ]
     },
     "execution_count": 14,
     "metadata": {},
     "output_type": "execute_result"
    }
   ],
   "source": [
    "GOOG.describe()"
   ]
  },
  {
   "cell_type": "markdown",
   "metadata": {},
   "source": [
    "# Charakteristiky souboru"
   ]
  },
  {
   "cell_type": "code",
   "execution_count": 15,
   "metadata": {},
   "outputs": [
    {
     "name": "stdout",
     "output_type": "stream",
     "text": [
      "Průměr cen na začátku dne = 683.4172131359402\n",
      "Průměr cen na konci dne = 683.5336392760844\n",
      "Průměrný objem obchodu za den = 6406664.851935703\n"
     ]
    }
   ],
   "source": [
    "print(\"Průměr cen na začátku dne = \" + str(GOOG.open.mean()))\n",
    "print(\"Průměr cen na konci dne = \" + str(GOOG.close.mean()))\n",
    "print(\"Průměrný objem obchodu za den = \" + str(GOOG.volume.mean()))"
   ]
  },
  {
   "cell_type": "code",
   "execution_count": 70,
   "metadata": {},
   "outputs": [
    {
     "name": "stdout",
     "output_type": "stream",
     "text": [
      "Medián cen na začátku dne = 431.0443420410156\n",
      "Medián cen na konci dne = 431.2535705566406\n",
      "Medián objemu obchodu za den = 3711660.0\n"
     ]
    }
   ],
   "source": [
    "print(\"Medián cen na začátku dne = \" + str(GOOG.open.median()))\n",
    "print(\"Medián cen na konci dne = \" + str(GOOG.close.median()))\n",
    "print(\"Medián objemu obchodu za den = \" + str(GOOG.volume.median()))"
   ]
  },
  {
   "cell_type": "code",
   "execution_count": 17,
   "metadata": {},
   "outputs": [],
   "source": [
    "openp = []\n",
    "closep = []\n",
    "volume = []"
   ]
  },
  {
   "cell_type": "code",
   "execution_count": 18,
   "metadata": {},
   "outputs": [],
   "source": [
    "for x in GOOG.open: openp.append(x)\n",
    "for x in GOOG.close: closep.append(x)\n",
    "for x in GOOG.volume: volume.append(x)"
   ]
  },
  {
   "cell_type": "code",
   "execution_count": 19,
   "metadata": {},
   "outputs": [],
   "source": [
    "daily_change = []\n",
    "daily_change_abs = []"
   ]
  },
  {
   "cell_type": "code",
   "execution_count": 20,
   "metadata": {},
   "outputs": [],
   "source": [
    "for x in range(len(openp)):\n",
    "    daily_change.append(closep[x]-openp[x])\n",
    "    daily_change_abs.append(np.absolute(closep[x]-openp[x]))"
   ]
  },
  {
   "cell_type": "code",
   "execution_count": 21,
   "metadata": {},
   "outputs": [
    {
     "name": "stdout",
     "output_type": "stream",
     "text": [
      "Průměr relativní denní změny = 0.11642614014418098\n",
      "Medián relativní denní změny = 0.004974365234375\n",
      "Průměr absolutní denní změny = 6.602463987150531\n",
      "Medián absolutní denní změny = 3.22113037109375\n"
     ]
    }
   ],
   "source": [
    "print(\"Průměr relativní denní změny = \" + str(np.mean(daily_change)))\n",
    "print(\"Medián relativní denní změny = \" + str(np.median(daily_change)))\n",
    "print(\"Průměr absolutní denní změny = \" + str(np.mean(daily_change_abs)))\n",
    "print(\"Medián absolutní denní změny = \" + str(np.median(daily_change_abs)))"
   ]
  },
  {
   "cell_type": "code",
   "execution_count": 22,
   "metadata": {},
   "outputs": [
    {
     "name": "stdout",
     "output_type": "stream",
     "text": [
      "Maximální relativní denní změna = 153.469970703125\n",
      "Minimální relativní denní změna = -130.550048828125\n",
      "Maximální absolutní denní změna = 153.469970703125\n",
      "Minimální absolutní denní změna = 0.0\n"
     ]
    }
   ],
   "source": [
    "print(\"Maximální relativní denní změna = \" + str(max(daily_change)))\n",
    "print(\"Minimální relativní denní změna = \" + str(min(daily_change)))\n",
    "print(\"Maximální absolutní denní změna = \" + str(max(daily_change_abs)))\n",
    "print(\"Minimální absolutní denní změna = \" + str(min(daily_change_abs)))"
   ]
  },
  {
   "cell_type": "code",
   "execution_count": 23,
   "metadata": {},
   "outputs": [
    {
     "name": "stdout",
     "output_type": "stream",
     "text": [
      "Směrodatná odchylka relativní denní změny = 12.264545721826574\n",
      "Směrodatná odchylka absolutní denní změny = 10.336348780263934\n"
     ]
    }
   ],
   "source": [
    "print(\"Směrodatná odchylka relativní denní změny = \" + str(np.std(daily_change)))\n",
    "print(\"Směrodatná odchylka absolutní denní změny = \" + str(np.std(daily_change_abs)))"
   ]
  },
  {
   "cell_type": "code",
   "execution_count": 24,
   "metadata": {},
   "outputs": [],
   "source": [
    "def var_coef(data):\n",
    "    coef = np.std(data)/np.mean(data)\n",
    "    return coef"
   ]
  },
  {
   "cell_type": "code",
   "execution_count": 25,
   "metadata": {},
   "outputs": [
    {
     "name": "stdout",
     "output_type": "stream",
     "text": [
      "Variační koeficent cen na začátku dne = 0.9370458291024517\n",
      "Variační koeficent cen na konci dne = 0.9371364399920072\n",
      "Variační koeficent objemu obchodu za den = 1.2142303646598323\n",
      "Variační koeficent relativní denní změny = 105.34185627590404\n",
      "Variační koeficent absolutní denní změny = 1.5655289904466196\n"
     ]
    }
   ],
   "source": [
    "print(\"Variační koeficent cen na začátku dne = \" + str(var_coef(openp)))\n",
    "print(\"Variační koeficent cen na konci dne = \" + str(var_coef(closep)))\n",
    "print(\"Variační koeficent objemu obchodu za den = \" + str(var_coef(volume)))\n",
    "print(\"Variační koeficent relativní denní změny = \" + str(var_coef(daily_change)))\n",
    "print(\"Variační koeficent absolutní denní změny = \" + str(var_coef(daily_change_abs)))"
   ]
  },
  {
   "cell_type": "code",
   "execution_count": 26,
   "metadata": {},
   "outputs": [],
   "source": [
    "def k(n):\n",
    "    k = 1 + 3.3 * math.log(n,10)\n",
    "    return math.ceil(k)"
   ]
  },
  {
   "cell_type": "code",
   "execution_count": 27,
   "metadata": {},
   "outputs": [
    {
     "name": "stdout",
     "output_type": "stream",
     "text": [
      "Počet intervalů = 14\n"
     ]
    }
   ],
   "source": [
    "print(\"Počet intervalů = \" + str(k(len(openp))))"
   ]
  },
  {
   "cell_type": "code",
   "execution_count": 28,
   "metadata": {},
   "outputs": [],
   "source": [
    "def interval_len(num_int, data):\n",
    "    ilen = (max(data) - min(data))/num_int\n",
    "    return ilen"
   ]
  },
  {
   "cell_type": "code",
   "execution_count": 29,
   "metadata": {},
   "outputs": [
    {
     "name": "stdout",
     "output_type": "stream",
     "text": [
      "Délka intervalů cen na začátku dne = 213.41858700343542\n",
      "Délka intervalů cen na konci dne = 211.74011884416853\n",
      "Délka intervalů denního objemu obchodu = 5895264.928571428\n",
      "Délka intervalů relativní denní změny = 20.287144252232142\n",
      "Délka intervalů absolutní denní změny = 10.962140764508929\n"
     ]
    }
   ],
   "source": [
    "print(\"Délka intervalů cen na začátku dne = \" + str(interval_len(14, openp)))\n",
    "print(\"Délka intervalů cen na konci dne = \" + str(interval_len(14, closep)))\n",
    "print(\"Délka intervalů denního objemu obchodu = \" + str(interval_len(14, volume)))\n",
    "print(\"Délka intervalů relativní denní změny = \" + str(interval_len(14,  daily_change)))\n",
    "print(\"Délka intervalů absolutní denní změny = \" + str(interval_len(14, daily_change_abs)))"
   ]
  },
  {
   "cell_type": "code",
   "execution_count": 30,
   "metadata": {},
   "outputs": [],
   "source": [
    "def int_mode(x,y):\n",
    "    ls = []\n",
    "    for z in range(round(x),math.ceil(y+1)):\n",
    "        ls.append(z)\n",
    "    return np.median(ls)"
   ]
  },
  {
   "cell_type": "markdown",
   "metadata": {},
   "source": [
    "# Grafy"
   ]
  },
  {
   "cell_type": "code",
   "execution_count": 31,
   "metadata": {},
   "outputs": [],
   "source": [
    "t = []"
   ]
  },
  {
   "cell_type": "code",
   "execution_count": 32,
   "metadata": {},
   "outputs": [],
   "source": [
    "for x in range(len(openp)):\n",
    "    t.append(x)"
   ]
  },
  {
   "cell_type": "code",
   "execution_count": 33,
   "metadata": {},
   "outputs": [
    {
     "data": {
      "text/plain": [
       "4417"
      ]
     },
     "execution_count": 33,
     "metadata": {},
     "output_type": "execute_result"
    }
   ],
   "source": [
    "len(t)"
   ]
  },
  {
   "cell_type": "code",
   "execution_count": 34,
   "metadata": {},
   "outputs": [
    {
     "data": {
      "image/png": "[encoded data removed]",
      "text/plain": [
       "<Figure size 432x288 with 1 Axes>"
      ]
     },
     "metadata": {
      "needs_background": "light"
     },
     "output_type": "display_data"
    }
   ],
   "source": [
    "plt.xlabel(\"Čas [dny]\", fontsize = \"12\")\n",
    "plt.ylabel(\"Cena akcie na začátku dne [USD]\", fontsize = \"12\")\n",
    "plt.plot(t, openp)\n",
    "plt.show()"
   ]
  },
  {
   "cell_type": "code",
   "execution_count": 35,
   "metadata": {},
   "outputs": [
    {
     "data": {
      "image/png": "[encoded data removed]",
      "text/plain": [
       "<Figure size 432x288 with 1 Axes>"
      ]
     },
     "metadata": {
      "needs_background": "light"
     },
     "output_type": "display_data"
    }
   ],
   "source": [
    "plt.xlabel(\"Čas [dny]\", fontsize = \"12\")\n",
    "plt.ylabel(\"Cena akcie na konci dne [USD]\", fontsize = \"12\")\n",
    "plt.plot(t, closep)\n",
    "plt.show()"
   ]
  },
  {
   "cell_type": "code",
   "execution_count": 36,
   "metadata": {},
   "outputs": [
    {
     "data": {
      "image/png": "[encoded data removed]",
      "text/plain": [
       "<Figure size 432x288 with 1 Axes>"
      ]
     },
     "metadata": {
      "needs_background": "light"
     },
     "output_type": "display_data"
    }
   ],
   "source": [
    "plt.scatter(t, daily_change, s = 1)\n",
    "plt.xlabel(\"Čas [dny]\", fontsize = \"12\")\n",
    "plt.ylabel(\"relativní změna v ceně akcie [USD]\", fontsize = \"12\")\n",
    "plt.show()"
   ]
  },
  {
   "cell_type": "code",
   "execution_count": 37,
   "metadata": {},
   "outputs": [
    {
     "data": {
      "image/png": "[encoded data removed]",
      "text/plain": [
       "<Figure size 432x288 with 1 Axes>"
      ]
     },
     "metadata": {
      "needs_background": "light"
     },
     "output_type": "display_data"
    }
   ],
   "source": [
    "plt.scatter(t, daily_change_abs, s = 1)\n",
    "plt.xlabel(\"Čas [dny]\", fontsize = \"12\")\n",
    "plt.ylabel(\"absolutní změna v ceně akcie [USD]\", fontsize = \"12\")\n",
    "plt.show()"
   ]
  },
  {
   "cell_type": "code",
   "execution_count": 38,
   "metadata": {},
   "outputs": [
    {
     "data": {
      "image/png": "[encoded data removed]",
      "text/plain": [
       "<Figure size 432x288 with 1 Axes>"
      ]
     },
     "metadata": {
      "needs_background": "light"
     },
     "output_type": "display_data"
    }
   ],
   "source": [
    "plt.scatter(t, volume, s=1)\n",
    "plt.xlabel(\"Čas [dny]\", fontsize = \"12\")\n",
    "plt.ylabel(\"Obchodovaný objem akcie [USD]\", fontsize = \"12\")\n",
    "plt.show()"
   ]
  },
  {
   "cell_type": "code",
   "execution_count": 39,
   "metadata": {},
   "outputs": [
    {
     "data": {
      "image/png": "[encoded data removed]",
      "text/plain": [
       "<Figure size 432x288 with 1 Axes>"
      ]
     },
     "metadata": {
      "needs_background": "light"
     },
     "output_type": "display_data"
    }
   ],
   "source": [
    "plt.scatter(daily_change, volume, s=1)\n",
    "plt.xlabel(\"relativní změna v ceně akcie [USD]\", fontsize = \"12\")\n",
    "plt.ylabel(\"Obchodovaný objem akcie [USD]\", fontsize = \"12\")\n",
    "plt.show()"
   ]
  },
  {
   "cell_type": "code",
   "execution_count": 40,
   "metadata": {},
   "outputs": [
    {
     "data": {
      "image/png": "[encoded data removed]",
      "text/plain": [
       "<Figure size 432x288 with 1 Axes>"
      ]
     },
     "metadata": {
      "needs_background": "light"
     },
     "output_type": "display_data"
    }
   ],
   "source": [
    "plt.scatter(daily_change_abs, volume, s=1)\n",
    "plt.xlabel(\"absolutní změna v ceně akcie [USD]\", fontsize = \"12\")\n",
    "plt.ylabel(\"Obchodovaný objem akcie [USD]\", fontsize = \"12\")\n",
    "plt.show()"
   ]
  },
  {
   "cell_type": "code",
   "execution_count": 41,
   "metadata": {},
   "outputs": [
    {
     "data": {
      "image/png": "[encoded data removed]",
      "text/plain": [
       "<Figure size 432x288 with 1 Axes>"
      ]
     },
     "metadata": {
      "needs_background": "light"
     },
     "output_type": "display_data"
    }
   ],
   "source": [
    "plt.xlabel(\"Cena akcie na začátku dne [USD]\", fontsize = \"12\")\n",
    "plt.ylabel(\"Frekvence\", fontsize = \"12\")\n",
    "plt.hist(openp, 14)\n",
    "plt.show()"
   ]
  },
  {
   "cell_type": "code",
   "execution_count": 42,
   "metadata": {},
   "outputs": [
    {
     "name": "stdout",
     "output_type": "stream",
     "text": [
      "Modus cen na začátku dne = 156.0\n"
     ]
    }
   ],
   "source": [
    " print(\"Modus cen na začátku dne = \" + str(int_mode(49.40980148,262.82838849)))"
   ]
  },
  {
   "cell_type": "code",
   "execution_count": 43,
   "metadata": {},
   "outputs": [
    {
     "data": {
      "image/png": "[encoded data removed]",
      "text/plain": [
       "<Figure size 432x288 with 1 Axes>"
      ]
     },
     "metadata": {
      "needs_background": "light"
     },
     "output_type": "display_data"
    }
   ],
   "source": [
    "plt.xlabel(\"Cena akcie na konci dne [USD]\", fontsize = \"12\")\n",
    "plt.ylabel(\"Frekvence\", fontsize = \"12\")\n",
    "plt.hist(closep, 14)\n",
    "plt.show()"
   ]
  },
  {
   "cell_type": "code",
   "execution_count": 44,
   "metadata": {},
   "outputs": [
    {
     "name": "stdout",
     "output_type": "stream",
     "text": [
      "Modus cen na konci dne = 156.0\n"
     ]
    }
   ],
   "source": [
    "print(\"Modus cen na konci dne = \" + str(int_mode(49.81826782,261.55838667)))"
   ]
  },
  {
   "cell_type": "code",
   "execution_count": 45,
   "metadata": {},
   "outputs": [
    {
     "data": {
      "image/png": "[encoded data removed]",
      "text/plain": [
       "<Figure size 432x288 with 1 Axes>"
      ]
     },
     "metadata": {
      "needs_background": "light"
     },
     "output_type": "display_data"
    }
   ],
   "source": [
    "plt.xlabel(\"Obchodovaný objem akcie [USD]\", fontsize = \"12\")\n",
    "plt.ylabel(\"Frekvence\", fontsize = \"12\")\n",
    "plt.hist(volume, 14)\n",
    "plt.show()"
   ]
  },
  {
   "cell_type": "code",
   "execution_count": 46,
   "metadata": {},
   "outputs": [
    {
     "name": "stdout",
     "output_type": "stream",
     "text": [
      "Modus objemů obchodu za den = 2955554.5\n"
     ]
    }
   ],
   "source": [
    "print(\"Modus objemů obchodu za den = \" + str(int_mode(7.92200000e+03,5.90318693e+06)))"
   ]
  },
  {
   "cell_type": "code",
   "execution_count": 47,
   "metadata": {},
   "outputs": [
    {
     "data": {
      "image/png": "[encoded data removed]",
      "text/plain": [
       "<Figure size 432x288 with 1 Axes>"
      ]
     },
     "metadata": {
      "needs_background": "light"
     },
     "output_type": "display_data"
    }
   ],
   "source": [
    "plt.xlabel(\"Relativní změna v ceně akcie [USD]\", fontsize = \"12\")\n",
    "plt.ylabel(\"Frekvence\", fontsize = \"12\")\n",
    "plt.hist(daily_change, 14)\n",
    "plt.show()"
   ]
  },
  {
   "cell_type": "code",
   "execution_count": 48,
   "metadata": {},
   "outputs": [
    {
     "name": "stdout",
     "output_type": "stream",
     "text": [
      "Modus relativní denní změny = 1.5\n"
     ]
    }
   ],
   "source": [
    "print(\"Modus relativní denní změny = \" + str(int_mode(-8.82718331,11.45996094)))"
   ]
  },
  {
   "cell_type": "code",
   "execution_count": 49,
   "metadata": {},
   "outputs": [
    {
     "data": {
      "image/png": "[encoded data removed]",
      "text/plain": [
       "<Figure size 432x288 with 1 Axes>"
      ]
     },
     "metadata": {
      "needs_background": "light"
     },
     "output_type": "display_data"
    }
   ],
   "source": [
    "plt.xlabel(\"Absolutní změna v ceně akcie [USD]\", fontsize = \"12\")\n",
    "plt.ylabel(\"Frekvence\", fontsize = \"12\")\n",
    "plt.hist(daily_change_abs, 14)\n",
    "plt.show()"
   ]
  },
  {
   "cell_type": "code",
   "execution_count": 50,
   "metadata": {},
   "outputs": [
    {
     "name": "stdout",
     "output_type": "stream",
     "text": [
      "Modus absolutní denní změny = 5.5\n"
     ]
    }
   ],
   "source": [
    "print(\"Modus absolutní denní změny = \" + str(int_mode(0,10.96214076)))"
   ]
  },
  {
   "cell_type": "markdown",
   "metadata": {},
   "source": [
    "# Regresní modely"
   ]
  },
  {
   "cell_type": "code",
   "execution_count": 51,
   "metadata": {},
   "outputs": [],
   "source": [
    "#data\n",
    "daily_change_abs = np.array(daily_change_abs, dtype=float)\n",
    "daily_change = np.array(daily_change, dtype=float)\n",
    "volume = np.array(volume, dtype=float)"
   ]
  },
  {
   "cell_type": "code",
   "execution_count": 52,
   "metadata": {},
   "outputs": [
    {
     "name": "stdout",
     "output_type": "stream",
     "text": [
      "-130.550048828125\n",
      "153.469970703125\n"
     ]
    }
   ],
   "source": [
    "print(min(daily_change))\n",
    "print(max(daily_change))"
   ]
  },
  {
   "cell_type": "code",
   "execution_count": 65,
   "metadata": {},
   "outputs": [
    {
     "name": "stdout",
     "output_type": "stream",
     "text": [
      "a = -73915710387.1604 , b = 1.0000018558250954, c = 73923022775.28767,\n"
     ]
    },
    {
     "data": {
      "image/png": "[encoded data removed]",
      "text/plain": [
       "<Figure size 432x288 with 1 Axes>"
      ]
     },
     "metadata": {
      "needs_background": "light"
     },
     "output_type": "display_data"
    }
   ],
   "source": [
    "#model\n",
    "#exponenciální křivka \n",
    "def model(x, a,b,c):\n",
    "    return a*b**x + c\n",
    "\n",
    "popt, pcov = curve_fit(model,  daily_change_abs,  volume)\n",
    "\n",
    "\n",
    "#line\n",
    "line = np.linspace(0, 154, 100)\n",
    "\n",
    "#print koefs\n",
    "print(\"a = %s , b = %s, c = %s,\" % (popt[0], popt[1], popt[2]))\n",
    "\n",
    "#plot data\n",
    "plt.scatter(daily_change_abs, volume, s=0.1,c=\"black\" )\n",
    "\n",
    "#labels\n",
    "plt.xlabel(\"absolutní změna v ceně akcie [USD]\", fontsize = \"12\")\n",
    "plt.ylabel(\"Obchodovaný objem akcie [USD]\", fontsize = \"12\")\n",
    "\n",
    "#plot line\n",
    "plt.plot(line, model(line, *popt), c=\"red\")\n",
    "\n",
    "#show graph\n",
    "plt.show()"
   ]
  },
  {
   "cell_type": "code",
   "execution_count": 67,
   "metadata": {},
   "outputs": [
    {
     "name": "stdout",
     "output_type": "stream",
     "text": [
      "r2 skóre modelu 1 = 0.033227079743843646\n"
     ]
    }
   ],
   "source": [
    "print(\"r2 skóre modelu 1 = \"+ str(r2_score(volume, model(daily_change_abs, *popt))))"
   ]
  },
  {
   "cell_type": "code",
   "execution_count": 55,
   "metadata": {},
   "outputs": [
    {
     "data": {
      "image/png": "[encoded data removed]",
      "text/plain": [
       "<Figure size 432x288 with 1 Axes>"
      ]
     },
     "metadata": {
      "needs_background": "light"
     },
     "output_type": "display_data"
    }
   ],
   "source": [
    "#model2\n",
    "#polynomiální křivka\n",
    "model2 = np.poly1d(np.polyfit(daily_change_abs, volume, 6))\n",
    "\n",
    "#line\n",
    "line = np.linspace(0, 154, 100)\n",
    "\n",
    "#plot data\n",
    "plt.scatter(daily_change_abs, volume, s=0.1,c=\"black\")\n",
    "\n",
    "#labels\n",
    "plt.xlabel(\"absolutní změna v ceně akcie [USD]\", fontsize = \"12\")\n",
    "plt.ylabel(\"Obchodovaný objem akcie [USD]\", fontsize = \"12\")\n",
    "\n",
    "#plot line\n",
    "plt.plot(line, model2(line), c=\"red\")\n",
    "\n",
    "#show graph\n",
    "plt.show()"
   ]
  },
  {
   "cell_type": "code",
   "execution_count": 68,
   "metadata": {},
   "outputs": [
    {
     "name": "stdout",
     "output_type": "stream",
     "text": [
      "r2 skóre modelu 2 = 0.04646948382661942\n"
     ]
    }
   ],
   "source": [
    "print(\"r2 skóre modelu 2 = \"+ str(r2_score(volume, model2(daily_change_abs))))"
   ]
  },
  {
   "cell_type": "code",
   "execution_count": 57,
   "metadata": {},
   "outputs": [
    {
     "name": "stdout",
     "output_type": "stream",
     "text": [
      "a = 6588736.577937295 , b = -87206.2447014129, c = 368154.563163363,\n"
     ]
    },
    {
     "data": {
      "image/png": "[encoded data removed]",
      "text/plain": [
       "<Figure size 432x288 with 1 Axes>"
      ]
     },
     "metadata": {
      "needs_background": "light"
     },
     "output_type": "display_data"
    }
   ],
   "source": [
    "#model \n",
    "#Gaussova křivka \n",
    "def model3(x, a, b, c):\n",
    "    return a*np.exp(-np.power(x-b, 2)/(2*np.power(c,2)))\n",
    "\n",
    "popt, pcov = curve_fit(model3,  daily_change,  volume)\n",
    "\n",
    "#line\n",
    "line = np.linspace(-131, 154, 100)\n",
    "\n",
    "#print koefs\n",
    "print(\"a = %s , b = %s, c = %s,\" % (popt[0], popt[1], popt[2]))\n",
    "\n",
    "#plot data\n",
    "plt.scatter(daily_change, volume, s=0.1,c=\"black\")\n",
    "\n",
    "#labels\n",
    "plt.xlabel(\"absolutní změna v ceně akcie [USD]\", fontsize = \"12\")\n",
    "plt.ylabel(\"Obchodovaný objem akcie [USD]\", fontsize = \"12\")\n",
    "\n",
    "#plot line\n",
    "plt.plot(line, model3(line, *popt), c=\"red\")\n",
    "\n",
    "#show graph\n",
    "plt.show()"
   ]
  },
  {
   "cell_type": "code",
   "execution_count": 69,
   "metadata": {},
   "outputs": [
    {
     "name": "stdout",
     "output_type": "stream",
     "text": [
      "r2 skóre modelu 3 = -90298929.68228163\n"
     ]
    }
   ],
   "source": [
    "print(\"r2 skóre modelu 3 = \"+ str(r2_score(volume, model3(daily_change, *popt))))"
   ]
  },
  {
   "cell_type": "markdown",
   "metadata": {},
   "source": [
    "# Shrnutí získaných výsledků"
   ]
  },
  {
   "cell_type": "markdown",
   "metadata": {},
   "source": [
    "## Charakteristiky souboru"
   ]
  },
  {
   "cell_type": "markdown",
   "metadata": {},
   "source": [
    "Průměr cen na začátku dne = 683.4172131359402\n",
    "Průměr cen na konci dne = 683.5336392760844\n",
    "Průměrný objem obchodu za den = 6406664.851935703\n",
    "Průměr relativní denní změny = 0.11642614014418098\n",
    "Průměr absolutní denní změny = 6.602463987150531 \n",
    "Medián cen na začátku dne = 431.0443420410156 \n",
    "Medián cen na konci dne = 431.2535705566406 \n",
    "Medián objemu obchodu za den = 3711660.0 \n",
    "Medián relativní denní změny = 0.004974365234375 \n",
    "Medián absolutní denní změny = 3.22113037109375 \n",
    "Maximální relativní denní změna = 153.469970703125 \n",
    "Minimální relativní denní změna = -130.550048828125 \n",
    "Maximální absolutní denní změna = 153.469970703125 \n",
    "Minimální absolutní denní změna = 0.0 \n",
    "Směrodatná odchylka relativní denní změny = 12.264545721826574 \n",
    "Směrodatná odchylka absolutní denní změny = 10.336348780263934 \n",
    "Variační koeficent cen na začátku dne = 0.9370458291024517 \n",
    "Variační koeficent cen na konci dne = 0.9371364399920072 \n",
    "Variační koeficent objemu obchodu za den = 1.2142303646598323 \n",
    "Variační koeficent relativní denní změny = 105.34185627590404 \n",
    "Variační koeficent absolutní denní změny = 1.5655289904466196 \n",
    "Počet intervalů u všech souborů = 14 \n",
    "Délka intervalů cen na začátku dne = 213.41858700343542 \n",
    "Délka intervalů cen na konci dne = 211.74011884416853 \n",
    "Délka intervalů denního objemu obchodu = 5895264.928571428 \n",
    "Délka intervalů relativní denní změny = 20.287144252232142 \n",
    "Délka intervalů absolutní denní změny = 10.962140764508929 \n",
    "Modus cen na začátku dne = 156.0 \n",
    "Modus cen na konci dne = 156.0 \n",
    "Modus objemů obchodu za den = 2955554.5 \n",
    "Modus relativní denní změny = 1.5 \n",
    "Modus absolutní denní změny = 5.5"
   ]
  },
  {
   "cell_type": "markdown",
   "metadata": {},
   "source": [
    "## Charakteristiky  modelů"
   ]
  },
  {
   "cell_type": "markdown",
   "metadata": {},
   "source": [
    "r2 skóre modelu 1 = 0.033227079743843646\\\n",
    "r2 skóre modelu 2 = 0.04646948382661942\\\n",
    "r2 skóre modelu 3 = -90298929.68228163"
   ]
  },
  {
   "cell_type": "markdown",
   "metadata": {},
   "source": [
    "# Závěr"
   ]
  },
  {
   "cell_type": "markdown",
   "metadata": {},
   "source": [
    "Celkem byly k vyhodnocení korelace změny v ceně akcie Googlu na obchovaném objemu dané akcie,\n",
    "použity 3 regresní modely a to modely exponenciální, polynomiální a model normálního rozložení. \n",
    "Hypotézu se pomocí modelů nepodařilo potvrdit a v použitých datech se robustní, posatelnou korelaci,\n",
    "nepovedlo nalézt."
   ]
  }
 ],
 "metadata": {
  "kernelspec": {
   "display_name": "Python 3",
   "language": "python",
   "name": "python3"
  },
  "language_info": {
   "codemirror_mode": {
    "name": "ipython",
    "version": 3
   },
   "file_extension": ".py",
   "mimetype": "text/x-python",
   "name": "python",
   "nbconvert_exporter": "python",
   "pygments_lexer": "ipython3",
   "version": "3.9.0"
  }
 },
 "nbformat": 4,
 "nbformat_minor": 4
}
